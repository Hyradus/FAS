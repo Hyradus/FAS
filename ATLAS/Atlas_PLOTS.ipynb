{
 "cells": [
  {
   "cell_type": "markdown",
   "id": "4ccf5259-26cb-4d06-96b9-c370ab5311b8",
   "metadata": {},
   "source": [
    "# Atlas Plot"
   ]
  },
  {
   "cell_type": "code",
   "execution_count": null,
   "id": "65059dac-8291-4ef9-8b8d-acebb2015ab4",
   "metadata": {},
   "outputs": [],
   "source": [
    "import holoviews as hv\n",
    "hv.extension('bokeh')\n",
    "import numpy as np\n",
    "import geopandas as gpd\n",
    "from scipy.spatial import ConvexHull, convex_hull_plot_2d\n",
    "from bokeh.io import output_file, show\n",
    "from bokeh.layouts import gridplot\n",
    "from bokeh.plotting import figure\n",
    "from bokeh.io import export_svg, export_png\n",
    "from holoviews.operation.timeseries import rolling, rolling_outlier_std\n",
    "from bokeh.io import output_file, show\n",
    "from bokeh.plotting import figure\n",
    "from sklearn.preprocessing import scale, normalize, MinMaxScaler\n",
    "from utils.utils import chunk_creator, convex_hull\n",
    "from scipy.stats import norm, kurtosis\n",
    "from sklearn import preprocessing\n",
    "from scipy import signal\n",
    "from scipy.stats import skew, triang"
   ]
  },
  {
   "cell_type": "code",
   "execution_count": null,
   "id": "b8989fc9-24bb-4ef1-ba52-eb50ca8ad93e",
   "metadata": {},
   "outputs": [],
   "source": [
    "transect_unified = gpd.read_file('./Atlas_Dec2022/processing/Atlas_transects_final.gpkg', driver='GPKG')\n",
    "faults_unified = gpd.read_file('./Atlas_Dec2022/processing/Atlas_faults_final.gpkg', driver='GPKG')"
   ]
  },
  {
   "cell_type": "markdown",
   "id": "bb9c8191-cf86-4f45-b0eb-c075436279ad",
   "metadata": {},
   "source": [
    "## Plotting displacement along Length"
   ]
  },
  {
   "cell_type": "markdown",
   "id": "7dfd2a83-a5c6-4008-9c24-0d56472e2b5b",
   "metadata": {},
   "source": [
    "## Define data scalers\n"
   ]
  },
  {
   "cell_type": "code",
   "execution_count": null,
   "id": "b9decf88-741b-48e4-9c77-181eb80356da",
   "metadata": {},
   "outputs": [],
   "source": [
    "x_scaler = MinMaxScaler(feature_range=(-1,1))\n",
    "y_scaler = MinMaxScaler(feature_range=(-1,1))"
   ]
  },
  {
   "cell_type": "code",
   "execution_count": null,
   "id": "68082be0-bdb5-4a31-a9bb-16aa89ac8164",
   "metadata": {},
   "outputs": [],
   "source": [
    "transect_unified['Fault ID'] = transect_unified['Fault ID'].astype('int')"
   ]
  },
  {
   "cell_type": "code",
   "execution_count": null,
   "id": "a6eaaab6-79aa-47b6-b81d-a9a5f22fd78c",
   "metadata": {},
   "outputs": [],
   "source": [
    "transect_unified_sorted = transect_unified.copy()\n",
    "transect_unified_sorted.sort_values('Fault ID', inplace=True)\n",
    "#transect_unified_sorted=transect_unified_sorted.reindex(transect_unified['Fault ID'].unique())\n",
    "#transect_unified_sorted.drop('index',axis=1,inplace=True)"
   ]
  },
  {
   "cell_type": "markdown",
   "id": "2ebee7d6-6b82-4e3e-bb2e-bac7f707c6ca",
   "metadata": {},
   "source": [
    "## Plot generation\n",
    "### For each fault will be generated a combined plot for:\n",
    "* MaxDisplacement/length\n",
    "* ConvexHull results\n",
    "* Rolling window"
   ]
  },
  {
   "cell_type": "code",
   "execution_count": null,
   "id": "591bfccd-671c-42db-98b8-f39ba47b06bf",
   "metadata": {},
   "outputs": [],
   "source": [
    "profiles = []\n",
    "cvs = []\n",
    "import math\n",
    "for jj in transect_unified_sorted['Fault ID'].unique():\n",
    "    group_gdf = transect_unified_sorted[transect_unified_sorted['Fault ID']==jj]\n",
    "    prof = sorted(list(zip(np.arange(0,int(group_gdf['Fault L(m)'].max()),len(group_gdf)),group_gdf['TrDsp (m)'])))\n",
    "    smoothed = rolling(hv.Curve(prof), rolling_window=5).opts(color='red',labelled=['x'], alpha=0.5)\n",
    "\n",
    "    xxx = np.array([xx[0] for xx in prof])#.flatten()\n",
    "    yyy = np.array([yy[1] for yy in prof])#.flatten()\n",
    "    xxx_norm = x_scaler.fit_transform(np.array(xxx).reshape(-1,1)).flatten()\n",
    "    yyy_norm = y_scaler.fit_transform(np.array(yyy).reshape(-1,1)).flatten()\n",
    "    points=list(zip(xxx_norm, yyy_norm))\n",
    "    points=np.array([[i[0],i[1]] for i in points])\n",
    "    \n",
    "    ##convex hull\n",
    "    #hull = ConvexHull(points)#, qhull_options=f'QG20')\n",
    "    lower_hull, upper_hull = convex_hull(points=list(zip(xxx_norm, yyy_norm)))\n",
    "    \n",
    "    ### lower hull   \n",
    "    #lhxs = np.array([lower_hull[i][0] for i in range(len(lower_hull))])\n",
    "    #cxs +=[xs[0]]    \n",
    "    #lhys = np.array([lower_hull[i][1] for i in range(len(lower_hull))])\n",
    "    # cys +=[ys[0]]\n",
    "    \n",
    "    combo_hull = lower_hull + upper_hull\n",
    "    chxs = np.array([combo_hull[i][0] for i in range(len(combo_hull))])\n",
    "    chxs = np.insert(chxs, 0, 1)\n",
    "    chxs = np.append(chxs, xxx_norm[0])\n",
    "    chxs = np.append(chxs, -1)    \n",
    "    chys = np.array([combo_hull[i][1] for i in range(len(combo_hull))])\n",
    "    #stdev=np.std(chys)\n",
    "    #mean=np.mean(chys)\n",
    "    chys = np.insert(chys, 0, -1)\n",
    "    chys = np.append(chys, yyy_norm[0])\n",
    "    chys = np.append(chys, -1)\n",
    "    \n",
    "    #### upper hull\n",
    "    uhxs = np.array([upper_hull[i][0] for i in range(len(upper_hull))])\n",
    "    uhxs = np.insert(uhxs, 0, 1)\n",
    "    uhxs = np.append(uhxs, xxx_norm[0])\n",
    "    uhxs = np.append(uhxs, -1)    \n",
    "    uhys = np.array([upper_hull[i][1] for i in range(len(upper_hull))])\n",
    "    stdev=np.std(uhys)\n",
    "    mean=np.mean(uhys)\n",
    "    CV = round(mean/stdev,3)\n",
    "    uhys = np.insert(uhys, 0, -1)\n",
    "    uhys = np.append(uhys, yyy_norm[0])\n",
    "    uhys = np.append(uhys, -1)\n",
    "    ### mean and st.dev for upper hull\n",
    "    #stdev=np.std(uhys)\n",
    "    #mean=np.mean(uhys)\n",
    "    ### plotting upper hull\n",
    "    chplot = figure(x_axis_label = \"Fault length (m)\", y_axis_label= \"Displacement (m)\", width=500, height=250) \n",
    "    chplot.title.text=f'Convex Hull - Fault ID: {jj}, CV: {CV}'    \n",
    "    chplot.border_fill_color = None\n",
    "    chplot.output_backend = \"svg\"    \n",
    "    chplot.xaxis.axis_label_text_font_size = \"15pt\"\n",
    "    chplot.xaxis.major_label_text_font_size = \"15pt\"\n",
    "    chplot.xaxis.axis_label_text_font = \"times\"\n",
    "    chplot.xaxis.axis_label_text_color = \"black\"\n",
    "    chplot.yaxis.axis_label_text_font_size = \"15pt\"\n",
    "    chplot.yaxis.major_label_text_font_size = \"15pt\"\n",
    "    chplot.yaxis.axis_label_text_font = \"times\"\n",
    "    chplot.yaxis.axis_label_text_color = \"black\"\n",
    "    chplot.yaxis.major_tick_line_width = 2\n",
    "    chplot.yaxis.major_tick_out = 10\n",
    "    chplot.yaxis.minor_tick_line_width = 2\n",
    "    chplot.xaxis.major_tick_line_width = 2\n",
    "    chplot.xaxis.major_tick_out = 10\n",
    "    chplot.xaxis.minor_tick_line_width = 2\n",
    "    chplot.xaxis.axis_line_width=2\n",
    "    chplot.yaxis.axis_line_width=2\n",
    "    chplot.xaxis.major_label_overrides = {-1: '-L/2', 0: '0', 1: 'L/2'}\n",
    "    chplot.yaxis.major_label_overrides = {-1: '-D/2', 0: '0', 1: 'D/2'}\n",
    "    chplot.line((xxx_norm),(yyy_norm),color='blue',width=1)\n",
    "    #chplot.line((lhxs),(lhys),color='red',width=1.5)\n",
    "    chplot.line((uhxs),(uhys),color='green',width=2)\n",
    "    chplot.scatter(uhxs, uhys, color='orange')\n",
    "    #######################\n",
    "    \n",
    "    ######## triangular fit\n",
    "    triang_fit = triang.fit(yyy_norm)\n",
    "    yyy_t = triang.pdf(xxx_norm, *triang_fit)\n",
    "    trplot = figure(x_axis_label = \"Fault length (m)\", y_axis_label= \"Displacement (m)\", width=500, height=250) \n",
    "    trplot.title.text=f'Triangle fit - Fault ID: {jj}'  \n",
    "    trplot.border_fill_color = None\n",
    "    trplot.output_backend = \"svg\"    \n",
    "    trplot.xaxis.axis_label_text_font_size = \"15pt\"\n",
    "    trplot.xaxis.major_label_text_font_size = \"15pt\"\n",
    "    trplot.xaxis.axis_label_text_font = \"times\"\n",
    "    trplot.xaxis.axis_label_text_color = \"black\"\n",
    "    trplot.yaxis.axis_label_text_font_size = \"15pt\"\n",
    "    trplot.yaxis.major_label_text_font_size = \"15pt\"\n",
    "    trplot.yaxis.axis_label_text_font = \"times\"\n",
    "    trplot.yaxis.axis_label_text_color = \"black\"\n",
    "    trplot.yaxis.major_tick_line_width = 2\n",
    "    trplot.yaxis.major_tick_out = 10\n",
    "    trplot.yaxis.minor_tick_line_width = 2\n",
    "    trplot.xaxis.major_tick_line_width = 2\n",
    "    trplot.xaxis.major_tick_out = 10\n",
    "    trplot.xaxis.minor_tick_line_width = 2\n",
    "    trplot.xaxis.axis_line_width=2\n",
    "    trplot.yaxis.axis_line_width=2\n",
    "    trplot.line(xxx_norm, yyy_norm, color='blue')\n",
    "    trplot.line(xxx_norm, yyy_t, color='green', width=2)\n",
    "    \n",
    "    ############# ellipse fit\n",
    "    from skimage.measure import EllipseModel\n",
    "    from matplotlib.patches import Ellipse\n",
    "    from ellipse import LsqEllipse\n",
    "    #ell = EllipseModel()\n",
    "    #ell.estimate(points)\n",
    "    #xc, yc, a, b, theta = ell.params\n",
    "    #print(\"center = \",  (xc, yc))\n",
    "    #print(\"angle of rotation = \",  theta)\n",
    "    #print(\"axes = \", (a,b))\n",
    "    reg = LsqEllipse().fit(np.array(list(zip(xxx_norm,yyy_norm))))\n",
    "    center, width, height, phi = reg.as_parameters()\n",
    "    elplot = figure(x_axis_label = \"Fault length (m)\", y_axis_label= \"Displacement (m)\", width=500, height=250) \n",
    "    elplot.ellipse(x=center[0], y=center[1], width=2*width, height=2*height, angle=phi, fill_color=\"yellow\", fill_alpha = 0, line_width=2, line_color='green') # * 180 / np.pi + 90\n",
    "    \n",
    "    elplot.title.text=f'Ellipse Fit - Fault ID: {jj}'  \n",
    "    elplot.border_fill_color = None\n",
    "    elplot.output_backend = \"svg\"    \n",
    "    elplot.xaxis.axis_label_text_font_size = \"15pt\"\n",
    "    elplot.xaxis.major_label_text_font_size = \"15pt\"\n",
    "    elplot.xaxis.axis_label_text_font = \"times\"\n",
    "    elplot.xaxis.axis_label_text_color = \"black\"\n",
    "    elplot.yaxis.axis_label_text_font_size = \"15pt\"\n",
    "    elplot.yaxis.major_label_text_font_size = \"15pt\"\n",
    "    elplot.yaxis.axis_label_text_font = \"times\"\n",
    "    elplot.yaxis.axis_label_text_color = \"black\"\n",
    "    elplot.yaxis.major_tick_line_width = 2\n",
    "    elplot.yaxis.major_tick_out = 10\n",
    "    elplot.yaxis.minor_tick_line_width = 2\n",
    "    elplot.xaxis.major_tick_line_width = 2\n",
    "    elplot.xaxis.major_tick_out = 10\n",
    "    elplot.xaxis.minor_tick_line_width = 2\n",
    "    elplot.xaxis.axis_line_width=2\n",
    "    elplot.yaxis.axis_line_width=2\n",
    "    elplot.line(xxx_norm, yyy_norm, color='blue')\n",
    "    from bokeh.models import ColumnDataSource, Ellipse\n",
    "    #elplot.ellipse(x=xc, y=yc, width=a, height=b, angle=theta * 180 / np.pi + 90 , fill_color=\"yellow\", fill_alpha = 0.4)\n",
    "    #source = ColumnDataSource(dict(x=xc, y=yc, w=a, h=b))\n",
    "    #glyph = Ellipse(x=\"x\", y=\"y\", width=\"w\", height=\"h\", angle=theta, fill_color=\"#cab2d6\")\n",
    "    #elplot.add_glyph(glyph)\n",
    "    ################ local slope\n",
    "    local_slope = []\n",
    "    for i in range(len(xxx)-1):\n",
    "        slope = (yyy[i+1]-yyy[i])/(xxx[i+1]-xxx[i])\n",
    "        local_slope.append(slope)\n",
    "    mean_slope = np.mean(local_slope)\n",
    "    #from scipy.signal import find_peaks\n",
    "    #peaks, _ = find_peaks(local_slope, prominence=0.5)   \n",
    "    np.insert(local_slope, 0, np.mean(local_slope))\n",
    "    local_slope = np.array(local_slope)\n",
    "    local_slope=np.insert(local_slope, 0,0)\n",
    "    \n",
    "    peak_indx = []\n",
    "    peak_values = []\n",
    "    slope_mean = np.mean(local_slope)\n",
    "    for val in range(len(local_slope)):\n",
    "        if local_slope[val] > np.percentile(local_slope,95) or local_slope[val] < np.percentile(local_slope,5):\n",
    "            #print(local_slope[val])\n",
    "            peak_values.append(local_slope[val])\n",
    "            peak_indx.append(val)\n",
    "    #sk = skew(peak_indx)\n",
    "    def consecutive(data, stepsize=1):\n",
    "        return np.split(data, np.where(np.diff(data) != stepsize)[0]+1)\n",
    "    \n",
    "\n",
    "    consec = np.max([len(cc) for cc in consecutive(peak_indx)])\n",
    "    \n",
    "    sloplot = figure(x_axis_label = \"Fault length (m)\", y_axis_label= \"Displacement (m)\", width=500, height=250) \n",
    "\n",
    "    sloplot.scatter(xxx_norm[peak_indx],local_slope[peak_indx], color = 'red')    \n",
    "    sloplot.line(xxx_norm, local_slope, color ='blue')    \n",
    "    if len(peak_indx)/len(local_slope)*100 <=75: #and consec <4:#math.isclose(sk, 0,rel_tol=0.5):\n",
    "    #if consec <3:#math.isclose(sk, 0,rel_tol=0.5):\n",
    "        shape = 'plateau'\n",
    "    else:\n",
    "        shape = 'peaked'\n",
    "    sloplot.title.text=f'Slope - Fault ID: {jj}, Type: {shape}'  \n",
    "    sloplot.border_fill_color = None\n",
    "    sloplot.output_backend = \"svg\"    \n",
    "    sloplot.xaxis.axis_label_text_font_size = \"15pt\"\n",
    "    sloplot.xaxis.major_label_text_font_size = \"15pt\"\n",
    "    sloplot.xaxis.axis_label_text_font = \"times\"\n",
    "    sloplot.xaxis.axis_label_text_color = \"black\"\n",
    "    sloplot.yaxis.axis_label_text_font_size = \"15pt\"\n",
    "    sloplot.yaxis.major_label_text_font_size = \"15pt\"\n",
    "    sloplot.yaxis.axis_label_text_font = \"times\"\n",
    "    sloplot.yaxis.axis_label_text_color = \"black\"\n",
    "    sloplot.yaxis.major_tick_line_width = 2\n",
    "    sloplot.yaxis.major_tick_out = 10\n",
    "    sloplot.yaxis.minor_tick_line_width = 2\n",
    "    sloplot.xaxis.major_tick_line_width = 2\n",
    "    sloplot.xaxis.major_tick_out = 10\n",
    "    sloplot.xaxis.minor_tick_line_width = 2\n",
    "    sloplot.xaxis.axis_line_width=2\n",
    "    sloplot.yaxis.axis_line_width=2    \n",
    "    profiles.append([chplot, jj])\n",
    "    if CV >=2.3:        \n",
    "        fault_type = 'plateau'\n",
    "    else:\n",
    "        fault_type = 'peaked'\n",
    "    cvs.append([jj, CV, fault_type])\n"
   ]
  },
  {
   "cell_type": "code",
   "execution_count": null,
   "id": "cc4b2f4b-b9af-4118-993e-dbcc2835dbcc",
   "metadata": {},
   "outputs": [],
   "source": [
    "profiles.sort(key = lambda x: x[1])\n",
    "sorted_profiles = [p[0] for p in profiles]\n",
    "plot_chunks = []\n",
    "for c in chunk_creator(sorted_profiles, 5):\n",
    "    plot_chunks.append(c)\n",
    "id_chunks=[]\n",
    "for c in chunk_creator(transect_unified_sorted['Fault ID'].unique(), 5):\n",
    "    id_chunks.append(c)"
   ]
  },
  {
   "cell_type": "markdown",
   "id": "9720c4b7-eb9d-4160-a7bf-2f22b892e559",
   "metadata": {},
   "source": [
    "## Plotting and saving"
   ]
  },
  {
   "cell_type": "code",
   "execution_count": null,
   "id": "90b9c3a3-abec-420e-aa88-6bdc11e8e658",
   "metadata": {},
   "outputs": [],
   "source": [
    "start_id = 0\n",
    "stop_id = 0 \n",
    "for i in range(len(plot_chunks)):\n",
    "    grid_pair = []\n",
    "    for c in chunk_creator(plot_chunks[i], 4):\n",
    "        grid_pair.append(c)\n",
    "    grid = gridplot(grid_pair, width=500, height=250)\n",
    "    start_id = id_chunks[i][0]\n",
    "    stop_id =id_chunks[i][-1]\n",
    "    export_svg(grid, filename = f'./Atlas_Dec2022/processing/Atlas_Displacement_along_faults_{start_id}-{stop_id}_normalized.svg')\n",
    "    export_png(grid, filename = f'./Atlas_Dec2022/processing/Atlas_Displacement_along_faults_{start_id}-{stop_id}_normalized.png')"
   ]
  },
  {
   "cell_type": "code",
   "execution_count": null,
   "id": "37daa3d9-b17f-49e2-b04a-52a0031736f5",
   "metadata": {},
   "outputs": [],
   "source": [
    "import pandas as pd\n",
    "results = pd.DataFrame(cvs, columns=['Fault ID','CV', 'Type'])\n",
    "results.to_excel(f'./Atlas_Dec2022/processing/Atlas_CV_classification.xlsx')"
   ]
  },
  {
   "cell_type": "markdown",
   "id": "00baf994-765f-4724-a106-c3d1d08c8b88",
   "metadata": {},
   "source": [
    "## Scaling LAW"
   ]
  },
  {
   "cell_type": "code",
   "execution_count": null,
   "id": "d2d8249e-bfd9-4c20-8a8b-e68739229f83",
   "metadata": {},
   "outputs": [],
   "source": [
    "import matplotlib.pyplot as plt\n",
    "%matplotlib inline"
   ]
  },
  {
   "cell_type": "markdown",
   "id": "50521a38-c797-42b7-8538-6e5926b6dc4a",
   "metadata": {},
   "source": [
    "### Define Laws"
   ]
  },
  {
   "cell_type": "code",
   "execution_count": null,
   "id": "f14d28f3-69e6-4efd-a545-2a2e10d6bcfc",
   "metadata": {},
   "outputs": [],
   "source": [
    "def powlaw(x, a, b) :\n",
    "    return a * np.power(x, b)\n",
    "def linlaw(x, a, b) :\n",
    "    return a + x * b\n",
    "from scipy.optimize import curve_fit"
   ]
  },
  {
   "cell_type": "markdown",
   "id": "507e5227-7205-4be6-a525-44153de702a9",
   "metadata": {},
   "source": [
    "### Defining data"
   ]
  },
  {
   "cell_type": "code",
   "execution_count": null,
   "id": "3504c13e-6753-4ebd-ad4c-d8582e16c578",
   "metadata": {},
   "outputs": [],
   "source": [
    "x = faults_unified['Fault L(m)']\n",
    "y = faults_unified['MaxDsp(m)']\n",
    "w = faults_unified['MaxWidth(m)']\n",
    "yerr = faults_unified['StdErDsp']\n",
    "#x_log = np.log10(x)\n",
    "#y_log = np.log10(y)"
   ]
  },
  {
   "cell_type": "markdown",
   "id": "5bc70a52-d9da-4437-bc21-eabc425f64af",
   "metadata": {},
   "source": [
    "### numpy curve_fit"
   ]
  },
  {
   "cell_type": "code",
   "execution_count": null,
   "id": "c9f851f7-4c3e-4101-958c-d9780d65b0df",
   "metadata": {},
   "outputs": [],
   "source": [
    "def powlaw(x, c, p) :\n",
    "    return c * np.power(x, p)\n",
    "def linlaw(x, c, p) :\n",
    "    return c + x * p\n",
    "from scipy.optimize import curve_fit"
   ]
  },
  {
   "cell_type": "code",
   "execution_count": null,
   "id": "aa5bf49f-d4dc-4a2e-8d76-b66ccf75bfa3",
   "metadata": {},
   "outputs": [],
   "source": [
    "## Power-law fit log scale\n",
    "popt_pow, pcov_pow = curve_fit(powlaw, x,y)\n",
    "ydatafit_pow = powlaw(x, *popt_pow)\n",
    "correlation_matrix_pow = np.corrcoef(y, ydatafit_pow)\n",
    "correlation_xy_pow = correlation_matrix_pow[0,1]\n",
    "r_squared_pow =correlation_xy_pow**2\n",
    "#print(f\"y = {round(popt[0],4)}x^{round(popt[1],4)}\\nR^2: {round(r_squared,4)}\")\n",
    "print(\"y=$%.6fx^{%.6f}$ \\n$R^{2}$: %.6f\"%(popt_pow[0],popt_pow[1],r_squared_pow))\n"
   ]
  },
  {
   "cell_type": "code",
   "execution_count": null,
   "id": "4059e738-0a52-41ac-8a8f-875476b3139e",
   "metadata": {},
   "outputs": [],
   "source": [
    "## Linear fit log scale\n",
    "popt_lin, pcov_lin = curve_fit(linlaw, x,y)\n",
    "ydatafit_lin = linlaw(x, *popt_lin)\n",
    "correlation_matrix_lin = np.corrcoef(y, ydatafit_lin)\n",
    "correlation_xy_lin = correlation_matrix_lin[0,1]\n",
    "r_squared_lin = correlation_xy_lin**2\n",
    "#print(f\"y = {round(popt[0],4)}x^{round(popt[1],4)}\\nR^2: {round(r_squared,4)}\")\n",
    "print(\"y=$%.6fx^{%.6f}$ \\n$R^{2}$: %.6f\"%(popt_lin[0],popt_lin[1],r_squared_lin))"
   ]
  },
  {
   "cell_type": "code",
   "execution_count": null,
   "id": "d2509326-2fab-4ade-b7a6-c0b8eaf15156",
   "metadata": {},
   "outputs": [],
   "source": [
    "# plot mapped fit onto X\n",
    "fig, ax = plt.subplots()\n",
    "ax.scatter(x, y, s=50)#, cmap='rainbow')#, c = np.random.rand(50))\n",
    "\n",
    "\n",
    "line1 = ax.plot(sorted(x), sorted(ydatafit_lin), color='red', label='Linear-scaling')\n",
    "line2 = ax.plot(sorted(x), sorted(ydatafit_pow),color='green',label='Power-scaling')\n",
    "# xerr = np.std(x)\n",
    "# yerr = np.std(y)\n",
    "#ax.errorbar(x, y, xerr=None, yerr=yerr, fmt='',linestyle='')\n",
    "ax.set_xscale(\"log\")\n",
    "ax.set_yscale(\"log\")\n",
    "ax.set_xlabel('Length (m)')\n",
    "ax.set_ylabel('Max Displacement (m)')\n",
    "ax.set_title(\"Linear y=$%.6fx^{%.6f}$ - $R^{2}$: %.6f\\nPower y=$%.6fx^{%.6f}$ - $R^{2}$: %.6f\"%(popt_lin[0],popt_lin[1],r_squared_lin,\n",
    "                                                                                                popt_pow[0],popt_pow[1],r_squared_pow))\n",
    "ax.legend()\n",
    "fname = './Atlas_Dec2022/processing/Atlas_MaxDisp_Lengt_curvefit.png'\n",
    "plt.savefig(fname, format='png')"
   ]
  },
  {
   "cell_type": "markdown",
   "id": "9b3dffc4-1f2a-44a5-88d8-cca5fd75b90d",
   "metadata": {},
   "source": [
    "## DMax/Length ratios frequencies"
   ]
  },
  {
   "cell_type": "code",
   "execution_count": null,
   "id": "e56b275c-9868-4f21-8f4f-205e2c6910d3",
   "metadata": {},
   "outputs": [],
   "source": [
    "DmaxL_ratios = [y[i]/x[i] for i in range(len(x))]\n",
    "dmax_histograms = []\n",
    "for i in [10,20,30,40,50,60]:    \n",
    "    frequencies, edges = np.histogram(DmaxL_ratios, i)\n",
    "    plot = figure(x_axis_label = 'DMax/L', y_axis_label= 'Frequency', width=500, height=250)\n",
    "    plot.quad(top=frequencies, bottom=0, left=edges[:-1], right=edges[1:], line_color=\"white\")\n",
    "    plot.background_fill_color = None\n",
    "    plot.border_fill_color = None\n",
    "    plot.output_backend = \"svg\"\n",
    "    plot.title.text=title=f\"{i} bins\"\n",
    "    dmax_histograms.append(plot)"
   ]
  },
  {
   "cell_type": "code",
   "execution_count": null,
   "id": "43723943-8d1a-486f-bc13-b9871a23dc06",
   "metadata": {},
   "outputs": [],
   "source": [
    "grid_pair = []\n",
    "plot_chunks = []\n",
    "for c in chunk_creator(dmax_histograms, 1):\n",
    "    plot_chunks.append(c)\n",
    "id_chunks=[]\n",
    "for c in chunk_creator(plot_chunks[0], 2):\n",
    "    grid_pair.append(c)\n",
    "grid = gridplot(grid_pair, width=500, height=250)\n",
    "export_svg(grid, filename = f'./Atlas_Dec2022/processing/Atlas_DmaxL_freq.svg')\n",
    "export_png(grid, filename = f'./Atlas_Dec2022/processing/Atlas_DmaxL_freq.png')"
   ]
  },
  {
   "cell_type": "code",
   "execution_count": null,
   "id": "075105ab-7567-4cfe-abc6-510b9e94b3d5",
   "metadata": {},
   "outputs": [],
   "source": [
    "i = 20\n",
    "frequencies, edges = np.histogram(DmaxL_ratios, i)\n",
    "plot = figure(x_axis_label = 'DMax/L', y_axis_label= 'Frequency', width=500, height=250)\n",
    "plot.quad(top=frequencies, bottom=0, left=edges[:-1], right=edges[1:], line_color=\"white\")\n",
    "plot.background_fill_color = None\n",
    "plot.border_fill_color = None\n",
    "plot.output_backend = \"svg\"\n",
    "plot.title.text=title=f\"{i} bins\"\n",
    "plot.xaxis.axis_label_text_font_size = \"15pt\"\n",
    "plot.xaxis.major_label_text_font_size = \"15pt\"\n",
    "plot.xaxis.axis_label_text_font = \"times\"\n",
    "plot.xaxis.axis_label_text_color = \"black\"\n",
    "plot.yaxis.axis_label_text_font_size = \"15pt\"\n",
    "plot.yaxis.major_label_text_font_size = \"15pt\"\n",
    "plot.yaxis.axis_label_text_font = \"times\"\n",
    "plot.yaxis.axis_label_text_color = \"black\"\n",
    "plot.yaxis.major_tick_line_width = 2\n",
    "plot.yaxis.major_tick_out = 10\n",
    "plot.yaxis.minor_tick_line_width = 2\n",
    "plot.xaxis.major_tick_line_width = 2\n",
    "plot.xaxis.major_tick_out = 10\n",
    "plot.xaxis.minor_tick_line_width = 2\n",
    "plot.xaxis.axis_line_width=2\n",
    "plot.yaxis.axis_line_width=2\n",
    "export_svg(plot, filename = f'./Atlas_Dec2022/processing/Atlas_DmaxL_freq.svg')\n",
    "export_png(plot, filename = f'./Atlas_Dec2022/processing/Atlas_DmaxL_freq.png')"
   ]
  },
  {
   "cell_type": "markdown",
   "id": "8149b794-b9da-48b1-931f-a3330d8d8096",
   "metadata": {},
   "source": [
    "## Width/Length ratios"
   ]
  },
  {
   "cell_type": "code",
   "execution_count": null,
   "id": "77a3d468-dbee-469d-9c6f-c83c753bf169",
   "metadata": {},
   "outputs": [],
   "source": [
    "WmaxL_ratios = [w[i]/x[i] for i in range(len(x))]\n",
    "wmax_histograms = []\n",
    "for i in [10,20,30,40,50,60]:    \n",
    "    frequencies, edges = np.histogram(WmaxL_ratios, i)\n",
    "    plot = figure(x_axis_label = 'WMax/L', y_axis_label= 'Frequency', width=500, height=250)\n",
    "    plot.quad(top=frequencies, bottom=0, left=edges[:-1], right=edges[1:], line_color=\"white\")\n",
    "    plot.background_fill_color = None\n",
    "    plot.border_fill_color = None\n",
    "    plot.output_backend = \"svg\"\n",
    "    plot.title.text=title=f\"{i} bins\"\n",
    "    wmax_histograms.append(plot)"
   ]
  },
  {
   "cell_type": "code",
   "execution_count": null,
   "id": "1fb031dc-3175-4b94-b5a4-acf4a8f9be9d",
   "metadata": {},
   "outputs": [],
   "source": [
    "grid_pair = []\n",
    "plot_chunks = []\n",
    "for c in chunk_creator(wmax_histograms, 1):\n",
    "    plot_chunks.append(c)\n",
    "id_chunks=[]\n",
    "for c in chunk_creator(plot_chunks[0], 2):\n",
    "    grid_pair.append(c)\n",
    "grid = gridplot(grid_pair, width=500, height=250)\n",
    "export_svg(grid, filename = f'./Atlas_Dec2022/processing/Atlas_WmaxL_freq.svg')\n",
    "export_png(grid, filename = f'./Atlas_Dec2022/processing/Atlas_WmaxL_freq.png')"
   ]
  },
  {
   "cell_type": "code",
   "execution_count": null,
   "id": "af30fc5a-32e1-484e-8d3b-436d68e66797",
   "metadata": {},
   "outputs": [],
   "source": [
    "i = 20\n",
    "frequencies, edges = np.histogram(WmaxL_ratios, i)\n",
    "plot = figure(x_axis_label = 'WMax/L', y_axis_label= 'Frequency', width=500, height=250)\n",
    "plot.quad(top=frequencies, bottom=0, left=edges[:-1], right=edges[1:], line_color=\"white\")\n",
    "plot.background_fill_color = None\n",
    "plot.border_fill_color = None\n",
    "plot.output_backend = \"svg\"\n",
    "plot.title.text=title=f\"{i} bins\"\n",
    "plot.xaxis.axis_label_text_font_size = \"15pt\"\n",
    "plot.xaxis.major_label_text_font_size = \"15pt\"\n",
    "plot.xaxis.axis_label_text_font = \"times\"\n",
    "plot.xaxis.axis_label_text_color = \"black\"\n",
    "plot.yaxis.axis_label_text_font_size = \"15pt\"\n",
    "plot.yaxis.major_label_text_font_size = \"15pt\"\n",
    "plot.yaxis.axis_label_text_font = \"times\"\n",
    "plot.yaxis.axis_label_text_color = \"black\"\n",
    "plot.yaxis.major_tick_line_width = 2\n",
    "plot.yaxis.major_tick_out = 10\n",
    "plot.yaxis.minor_tick_line_width = 2\n",
    "plot.xaxis.major_tick_line_width = 2\n",
    "plot.xaxis.major_tick_out = 10\n",
    "plot.xaxis.minor_tick_line_width = 2\n",
    "plot.xaxis.axis_line_width=2\n",
    "plot.yaxis.axis_line_width=2\n",
    "export_svg(plot, filename = f'./Atlas_Dec2022/processing/Atlas_WmaxL_freq.svg')\n",
    "export_png(plot, filename = f'./Atlas_Dec2022/processing/Atlas_WmaxL_freq.png')"
   ]
  }
 ],
 "metadata": {
  "kernelspec": {
   "display_name": "Python 3 (ipykernel)",
   "language": "python",
   "name": "python3"
  },
  "language_info": {
   "codemirror_mode": {
    "name": "ipython",
    "version": 3
   },
   "file_extension": ".py",
   "mimetype": "text/x-python",
   "name": "python",
   "nbconvert_exporter": "python",
   "pygments_lexer": "ipython3",
   "version": "3.9.15"
  }
 },
 "nbformat": 4,
 "nbformat_minor": 5
}
