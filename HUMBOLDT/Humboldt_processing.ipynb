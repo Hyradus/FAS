{
 "cells": [
  {
   "cell_type": "code",
   "execution_count": null,
   "id": "10e6778a-7369-4d2e-af02-b121c785f646",
   "metadata": {},
   "outputs": [],
   "source": [
    "import geopandas as gpd\n",
    "import joblib\n",
    "from joblib import Parallel, delayed\n",
    "import math\n",
    "from more_itertools import split_after\n",
    "import numpy as np\n",
    "import numpy.ma as ma\n",
    "import os\n",
    "import pandas as pd\n",
    "import shapely\n",
    "from shapely.ops import substring\n",
    "from pyproj import CRS as CRS\n",
    "from pyproj import Geod\n",
    "import rasterio as rio\n",
    "import rioxarray as riox\n",
    "from shapely.geometry import Point, LineString\n",
    "from tqdm import tqdm\n",
    "import holoviews as hv\n",
    "hv.extension('bokeh')\n",
    "from holoviews import dim, opts\n",
    "import hvplot.pandas\n",
    "from pyproj import Geod\n",
    "geod = Geod('+a=1737400.0')\n",
    "GCS_Moon_2000 = CRS.from_wkt('GEOGCS[\"Moon 2000\",DATUM[\"D_Moon_2000\",SPHEROID[\"Moon_2000_IAU_IAG\",1737400.0,0.0]],PRIMEM[\"Greenwich\",0],UNIT[\"Degree\",0.017453292519943295]]')\n",
    "MoonEqui = CRS.from_wkt('PROJCS[\"Moon_Equidistant_Cylindrical\",GEOGCS[\"Moon 2000\",DATUM[\"D_Moon_2000\",SPHEROID[\"Moon_2000_IAU_IAG\",1737400.0,0.0]],PRIMEM[\"Greenwich\",0],UNIT[\"Decimal_Degree\",0.0174532925199433]],PROJECTION[\"Equidistant_Cylindrical\"],PARAMETER[\"False_Easting\",0],PARAMETER[\"False_Northing\",0],PARAMETER[\"Central_Meridian\",0],PARAMETER[\"Standard_Parallel_1\",0],UNIT[\"Meter\",1]]')\n",
    "from utils.utils import get_img_aff,geodataframe_reproj,parallel_geodensifier, cut, FindMaxLength, dem_profiler, giveline, parallel_transectifier, parallel_tReshaper, transect_dataframe_creator, transect_reshaper, chunk_creator"
   ]
  },
  {
   "cell_type": "markdown",
   "id": "03c3bd69-229e-47d7-8997-eb81e861708b",
   "metadata": {},
   "source": [
    "## Define initial Faults shapefile"
   ]
  },
  {
   "cell_type": "code",
   "execution_count": null,
   "id": "11d20aab-4ffb-4d43-bbdd-accd8d489851",
   "metadata": {},
   "outputs": [],
   "source": [
    "crater_name= 'Humboldt'"
   ]
  },
  {
   "cell_type": "code",
   "execution_count": null,
   "id": "547ca86b-fd97-499d-acff-519856e8c6e3",
   "metadata": {},
   "outputs": [],
   "source": [
    "faults_linear_shapes = f'./{crater_name}_Dec2022/faults-humboldt_v2.shp'"
   ]
  },
  {
   "cell_type": "markdown",
   "id": "153fa769-c857-4e1e-a1f3-7ab11c1a4150",
   "metadata": {},
   "source": [
    "## Define basemaps files"
   ]
  },
  {
   "cell_type": "code",
   "execution_count": null,
   "id": "6a7d59fe-cb33-4fcd-b8c0-3e252defb1fd",
   "metadata": {},
   "outputs": [],
   "source": [
    "dem_file = f'./{crater_name}_Dec2022/{crater_name}-DEM.tif'\n",
    "slope_file = f'./{crater_name}_Dec2022/{crater_name}-slope.tif'\n",
    "aspect_file = f'./{crater_name}_Dec2022/{crater_name}-aspect.tif'\n",
    "image = f'./{crater_name}_Dec2022/{crater_name}-WAC-ortho.tif'\n",
    "basecrs = rio.open(image).crs\n",
    "processing_folder = f'{os.path.dirname(image)}/processing'\n",
    "os.makedirs(processing_folder,exist_ok=True)"
   ]
  },
  {
   "cell_type": "markdown",
   "id": "701c983e-18b2-45c5-82d6-99e81d0ffb26",
   "metadata": {},
   "source": [
    "## Read basemaps files"
   ]
  },
  {
   "cell_type": "code",
   "execution_count": null,
   "id": "bd52195f-10ea-4cc6-8973-e992fc892b89",
   "metadata": {},
   "outputs": [],
   "source": [
    "dem_new_file, dem_aff, dem_img = get_img_aff(dem_file, basecrs)\n",
    "slope_new_file, slope_aff, slope_img = get_img_aff(slope_file, basecrs)\n",
    "aspect_new_file, asp_aff, aspect_img = get_img_aff(aspect_file, basecrs)\n",
    "riox_dem = riox.open_rasterio(dem_file, masked=True)\n",
    "dem_res = math.ceil(dem_aff[0])"
   ]
  },
  {
   "cell_type": "markdown",
   "id": "8b60e8d4-ad61-4839-a6ed-05553f933ee3",
   "metadata": {},
   "source": [
    "## Reproject fault shapefile and densify each fault geometry\n",
    "**Each fault geometry is composed by a number of points that corresponds to the user points created during the fault drawing**\n",
    "\n",
    "**Densifying the fault geometry means we create equally spaced points along all the geometry**"
   ]
  },
  {
   "cell_type": "code",
   "execution_count": null,
   "id": "b86ec406-e76a-4d85-ad53-f062c74da8f9",
   "metadata": {},
   "outputs": [],
   "source": [
    "linear_reproj_gdf_file,linear_repr_gdf = geodataframe_reproj(processing_folder, faults_linear_shapes, basecrs)\n",
    "linear_densified_gdf_file, linear_densified_gdf, chunk_results=parallel_geodensifier(processing_folder, linear_reproj_gdf_file, 'fault_id', 4, dem_res)\n",
    "geographic_linear_densified_gdf=linear_densified_gdf.to_crs(GCS_Moon_2000)"
   ]
  },
  {
   "cell_type": "markdown",
   "id": "43ae3e2a-dd11-4acd-88ea-cd0d123db899",
   "metadata": {},
   "source": [
    "## Aperture Statistics"
   ]
  },
  {
   "cell_type": "code",
   "execution_count": null,
   "id": "b7ce3466-5060-4cfa-a3cc-b0929fa249d9",
   "metadata": {},
   "outputs": [],
   "source": [
    "faults_copy = linear_densified_gdf.copy()"
   ]
  },
  {
   "cell_type": "markdown",
   "id": "dcd5fc87-6a88-4d40-8585-4877a1417e42",
   "metadata": {},
   "source": [
    "## Filter faults\n",
    "**fault_drop_list contains all the id of anomalous graben faults (e.g. grabens with different faults length, graben with 3+ faults)**"
   ]
  },
  {
   "cell_type": "code",
   "execution_count": null,
   "id": "75634770-7f97-4fac-871d-bff5873988a2",
   "metadata": {},
   "outputs": [],
   "source": [
    "fault_drop_list = [3,4,5,6,7,8,13,14,27,28,29,30,47,49,50,51,115,116,117]\n",
    "faults_drop_index = [faults_copy[faults_copy['fault_id']==flts].index.values[0] for flts in fault_drop_list]"
   ]
  },
  {
   "cell_type": "markdown",
   "id": "d3811359-7593-4425-8189-bda87e29642d",
   "metadata": {},
   "source": [
    "## Fault pairs\n",
    "**Generate graben fault pairs**"
   ]
  },
  {
   "cell_type": "code",
   "execution_count": null,
   "id": "a2bb21dd-c4df-4dd1-a99d-1cb09b7157ae",
   "metadata": {},
   "outputs": [],
   "source": [
    "indexes_to_keep = set(range(faults_copy.shape[0])) - set(faults_drop_index)\n",
    "faults_copy_sliced_in = faults_copy.take(list(indexes_to_keep)).reset_index()\n",
    "faults_copy_sliced_in.to_file (f'./{crater_name}_Dec2022/processing/filtered_simple.gpkg', driver='GPKG')"
   ]
  },
  {
   "cell_type": "markdown",
   "id": "88a179e5-377b-49cd-b3c6-bc7c4e0ddfb2",
   "metadata": {},
   "source": [
    "## Processing Fault Pairs"
   ]
  },
  {
   "cell_type": "code",
   "execution_count": null,
   "id": "23f451cb-dc60-4265-a9e6-974fc9f1177c",
   "metadata": {},
   "outputs": [],
   "source": [
    "complete_indxs = list(faults_copy_sliced_in.index)\n",
    "indxs = [complete_indxs[i:i+2] for i in range(0, len(complete_indxs)-1, 2)]\n",
    "start_indx = [ix[0] for ix in indxs]\n",
    "stop_indx = [ix[1] for ix in indxs]"
   ]
  },
  {
   "cell_type": "markdown",
   "id": "821fbc9b-cab9-4cef-a809-5a5d0ccbe3ac",
   "metadata": {},
   "source": [
    "## Compute Graben Aperture\n",
    "**To compute graben aperture, for each fault we measure the min, max and mean distance between the fault and its paired fault's points.**"
   ]
  },
  {
   "cell_type": "code",
   "execution_count": null,
   "id": "9f2cdf16-c893-455a-9372-5ad3b6439e4a",
   "metadata": {},
   "outputs": [],
   "source": [
    "for ii, jj in indxs:\n",
    "    #ii = 2\n",
    "    #jj = 3\n",
    "    series1=faults_copy_sliced_in.iloc[ii]\n",
    "    series2=faults_copy_sliced_in.iloc[jj]\n",
    "    id1=series1['fault_id']\n",
    "    id2=series2['fault_id']\n",
    "    l1 = series1.geometry\n",
    "    l2 = series2.geometry\n",
    "    l1_points = [Point(l1.xy[0][i],l1.xy[1][i]) for i in range(len(l1.xy[0]))]\n",
    "    l2_points = [Point(l2.xy[0][i],l2.xy[1][i]) for i in range(len(l2.xy[0]))]\n",
    "    l1_point_distance = []\n",
    "    l2_point_distance = []\n",
    "    for point in l1_points:\n",
    "        pt_distance = point.distance(l2)\n",
    "        l1_point_distance.append(pt_distance)            \n",
    "    for point in l2_points:\n",
    "        pt_distance = point.distance(l1)\n",
    "        l2_point_distance.append(pt_distance)\n",
    "    l1_percentile = np.percentile(l1_point_distance,75)\n",
    "    l1_percentilemid = np.percentile(l1_point_distance,25)\n",
    "    l2_percentile = np.percentile(l2_point_distance, 80)\n",
    "    l2_percentilemid = np.percentile(l2_point_distance,25)\n",
    "   #l1_distance = [dst if dst <l1_percentile else l1_percentilemid for dst in l1_point_distance]\n",
    "   # l2_distance = [dst if dst <l2_percentile else l2_percentilemid for dst in l2_point_distance]\n",
    "    #l1_distance = [dst if dst >=np.mean(l1_point_distance)//2 else np.mean(l2_point_distance) for dst in l1_point_distance]\n",
    "    #l2_distance = [dst if dst >=np.mean(l2_point_distance)//2 else np.mean(l1_point_distance) for dst in l1_point_distance]\n",
    "    #l1_distance = [dst if dst <l1_percentile else l1_percentilemid for dst in l1_distance]\n",
    "    #l2_distance = [dst if dst <l2_percentile else l1_percentilemid for dst in l2_distance]\n",
    "    #l1_distance = [dst if dst <=l1_percentile else l1_percentilemid for dst in l1_distance]\n",
    "    #l2_distance = [dst if dst <=l2_percentile else l1_percentilemid for dst in l1_distance]\n",
    "    l1_distance = [dst for dst in l1_point_distance]\n",
    "    l2_distance = [dst for dst in l2_point_distance]\n",
    "    zipped = list(zip(l1_point_distance,l2_point_distance))\n",
    "    l1_aperture=[]\n",
    "    l2_aperture=[]\n",
    "    for z in zipped:\n",
    "        ratio1 = z[0]/z[1]\n",
    "        ratio2 = z[1]/z[0]\n",
    "        if math.isclose(ratio1, 1,rel_tol=0.5):\n",
    "            l1_aperture.append(z[0])\n",
    "            l2_aperture.append(z[1])\n",
    "        elif ratio1 > ratio2:\n",
    "            l1_aperture.append(np.mean(l2_distance))\n",
    "            l2_aperture.append(np.mean(l2_distance))\n",
    "        else:\n",
    "            l1_aperture.append(np.mean(l1_distance))\n",
    "            l2_aperture.append(np.mean(l1_distance))\n",
    "    l1_distance = l1_aperture\n",
    "    l2_distance=l2_aperture\n",
    "    faults_copy_sliced_in.loc[faults_copy_sliced_in['fault_id']==id1,'MinWidth(m)'] = np.min(l1_distance)\n",
    "    faults_copy_sliced_in.loc[faults_copy_sliced_in['fault_id']==id1,'MaxWidth(m)'] = np.max(l1_distance)\n",
    "    faults_copy_sliced_in.loc[faults_copy_sliced_in['fault_id']==id1,'MeanWidth(m)'] = np.mean(l1_distance)\n",
    "    faults_copy_sliced_in.loc[faults_copy_sliced_in['fault_id']==id1,'StdErW(m)'] = np.std(l1_distance)\n",
    "    faults_copy_sliced_in.loc[faults_copy_sliced_in['fault_id']==id1,'GrbMeW(m)'] = np.mean(l1_distance+l2_distance)\n",
    "    faults_copy_sliced_in.loc[faults_copy_sliced_in['fault_id']==id2,'MinWidth(m)'] = np.min(l2_distance)\n",
    "    faults_copy_sliced_in.loc[faults_copy_sliced_in['fault_id']==id2,'MaxWidth(m)'] = np.max(l2_distance)\n",
    "    faults_copy_sliced_in.loc[faults_copy_sliced_in['fault_id']==id2,'MeanWidth(m)'] = np.mean(l2_distance)\n",
    "    faults_copy_sliced_in.loc[faults_copy_sliced_in['fault_id']==id2,'StdErW(m)'] = np.std(l2_distance)\n",
    "    faults_copy_sliced_in.loc[faults_copy_sliced_in['fault_id']==id2,'GrbMeW(m)'] = np.mean(l1_distance+l2_distance)\n",
    "    #if ii == 2:\n",
    "    #    break\n",
    "#faults_copy_sliced_in['MeanWidth(m)']"
   ]
  },
  {
   "cell_type": "markdown",
   "id": "f2bba36e-900e-48d5-bad9-f511f0c948c0",
   "metadata": {},
   "source": [
    "## Transects generation\n",
    "**Transects are generated at each point of each fault using the MeanWidth as length**"
   ]
  },
  {
   "cell_type": "code",
   "execution_count": null,
   "id": "add7a022-1977-43bc-a7de-6f29f0402af5",
   "metadata": {},
   "outputs": [],
   "source": [
    "from shapely.geometry import Point, LineString\n",
    "geoLengths, segments, temp_datas = parallel_transectifier(faults_copy_sliced_in, 'MeanWidth(m)')"
   ]
  },
  {
   "cell_type": "markdown",
   "id": "de17ffda-c854-4e3d-a83a-4e4f88711105",
   "metadata": {},
   "source": [
    "## Transect Dataframe creation"
   ]
  },
  {
   "cell_type": "code",
   "execution_count": null,
   "id": "a53fed2e-77b7-4286-9883-0744f1e63c88",
   "metadata": {},
   "outputs": [],
   "source": [
    "transect_gdf_in = transect_dataframe_creator(temp_datas)"
   ]
  },
  {
   "cell_type": "code",
   "execution_count": null,
   "id": "3d99b908-d8e3-4c14-a6b0-baead9dbe867",
   "metadata": {},
   "outputs": [],
   "source": [
    "transect_gdf_in.crs=basecrs\n",
    "transect_gpkg_in = f'./{crater_name}_Dec2022/processing/transects-{crater_name}_simple.gpkg'\n",
    "transect_gdf_in.to_file(transect_gpkg_in,driver='GPKG')\n"
   ]
  },
  {
   "cell_type": "code",
   "execution_count": null,
   "id": "f1d12a0c-b6a8-481e-a7dc-3cd7db2f4ae6",
   "metadata": {},
   "outputs": [],
   "source": [
    "transect_gdf_trim_in = transect_gdf_in.copy()"
   ]
  },
  {
   "cell_type": "markdown",
   "id": "59da7bac-045e-4000-8dbc-9600946d4fa3",
   "metadata": {},
   "source": [
    "## Transects trimming\n",
    "**For all the fault, each fault's transect is truncated at the intersectio of the corresponding paired fault**"
   ]
  },
  {
   "cell_type": "code",
   "execution_count": null,
   "id": "f19740b5-a17d-463c-a229-157a31d77ac8",
   "metadata": {},
   "outputs": [],
   "source": [
    "for ii, jj in indxs:       \n",
    "    series1=faults_copy_sliced_in.iloc[ii]\n",
    "    series2=faults_copy_sliced_in.iloc[jj]\n",
    "    id1=series1['fault_id']\n",
    "    id2=series2['fault_id']\n",
    "    tmp1 = transect_gdf_trim_in[transect_gdf_trim_in['Fault ID']==id1]\n",
    "    tmp2 = transect_gdf_trim_in[transect_gdf_trim_in['Fault ID']==id2]\n",
    "    l1 = series1.geometry\n",
    "    l2 = series2.geometry\n",
    "    nnf1 = faults_copy_sliced_in[faults_copy_sliced_in['fault_id']==id1].iloc[0].geometry\n",
    "    nnf2 = faults_copy_sliced_in[faults_copy_sliced_in['fault_id']==id2].iloc[0].geometry\n",
    "    cutplots=[]\n",
    "    for i in tmp1.index:        \n",
    "        nnt1 = tmp1.loc[i,'geometry']\n",
    "        nncut1 = nnt1.difference(nnf2)\n",
    "        try:\n",
    "            nncut1geom = nncut1.geoms[0]\n",
    "        except Exception as e:\n",
    "            #print(e)\n",
    "            nncut1geom = nncut1\n",
    "            pass\n",
    "        transect_gdf_trim_in.loc[i,'geometry']=nncut1geom\n",
    "    for i in tmp2.index:\n",
    "        nnt2 = tmp2.loc[i,'geometry']\n",
    "        nncut2 = nnt2.difference(nnf1)\n",
    "        try:\n",
    "            nncut2geom = nncut2.geoms[0]\n",
    "        except:\n",
    "            nncut2geom = nncut2\n",
    "            pass\n",
    "        transect_gdf_trim_in.loc[i,'geometry']=nncut2geom\n",
    "\n",
    "    "
   ]
  },
  {
   "cell_type": "code",
   "execution_count": null,
   "id": "afc9280d-5bdb-4fcb-9287-8f385f54c0e4",
   "metadata": {},
   "outputs": [],
   "source": [
    "transect_gdf_trim_in.crs=basecrs\n",
    "transect_gpkg_in = f'./{crater_name}_Dec2022/processing/transects-{crater_name}_simple_trimmed.gpkg'\n",
    "transect_gdf_trim_in.to_file(transect_gpkg_in,driver='GPKG')\n"
   ]
  },
  {
   "cell_type": "markdown",
   "id": "18c3b1e7-c260-4924-ba11-79f7160640cd",
   "metadata": {},
   "source": [
    "## Transect reshaping using DEM profiles\n",
    "**For each transect, a DEM profile will be generated and then the minimum elevation point will be used to cut the transect**"
   ]
  },
  {
   "cell_type": "code",
   "execution_count": null,
   "id": "3315826e-7dd8-4da3-8fcb-445029f540db",
   "metadata": {},
   "outputs": [],
   "source": [
    "Displacements, Geoms = parallel_tReshaper(transect_gdf_trim_in,transect_reshaper,riox_dem,dem_res)"
   ]
  },
  {
   "cell_type": "code",
   "execution_count": null,
   "id": "97f7a128-5037-4707-8e6a-6d2169e6fee9",
   "metadata": {},
   "outputs": [],
   "source": [
    "transect_gdf_reshaped_in = transect_gdf_trim_in.copy()"
   ]
  },
  {
   "cell_type": "code",
   "execution_count": null,
   "id": "34af2f29-4a40-4747-8d84-e3cf4119ea3e",
   "metadata": {},
   "outputs": [],
   "source": [
    "transect_gdf_reshaped_in['TrDsp (m)'] = Displacements\n",
    "transect_gdf_reshaped_in['geometry']=Geoms"
   ]
  },
  {
   "cell_type": "markdown",
   "id": "65f0493b-ac45-4dda-b6e4-ba47f2d927b3",
   "metadata": {},
   "source": [
    "## Transect Displacement statistics\n"
   ]
  },
  {
   "cell_type": "code",
   "execution_count": null,
   "id": "48946f42-f744-4fab-8b7c-d3d2e5254d01",
   "metadata": {
    "tags": []
   },
   "outputs": [],
   "source": [
    "for jj in transect_gdf_reshaped_in['Fault ID']:\n",
    "    mask = transect_gdf_reshaped_in['Fault ID']==jj\n",
    "    stder= transect_gdf_reshaped_in[mask]['TrDsp (m)'].std()\n",
    "    mean= transect_gdf_reshaped_in[mask]['TrDsp (m)'].mean()\n",
    "    transect_gdf_reshaped_in.loc[mask,'StdErDsp']=stder    "
   ]
  },
  {
   "cell_type": "code",
   "execution_count": null,
   "id": "f83e5089-19d5-468d-a0b0-47398e949d8d",
   "metadata": {
    "tags": []
   },
   "outputs": [],
   "source": [
    "transect_gdf_reshaped_in.crs=basecrs\n",
    "transect_gpkg_in = f'./{crater_name}_Dec2022/processing/transects-{crater_name}_simple_reshaped.gpkg'\n",
    "transect_gdf_reshaped_in.to_file(transect_gpkg_in,driver='GPKG')\n"
   ]
  },
  {
   "cell_type": "markdown",
   "id": "46df0bfa-c5ca-450b-bb2f-e91cfc985f3c",
   "metadata": {},
   "source": [
    "## Summary Faults statistics "
   ]
  },
  {
   "cell_type": "code",
   "execution_count": null,
   "id": "d25add6c-e9c4-4189-9de8-ebec549d0f1d",
   "metadata": {},
   "outputs": [],
   "source": [
    "faults_stat_cols = ['Fault ID','Fault L(m)',\n",
    "                    'MaxDsp(m)','MeanDsp(m)','StdErDsp',\n",
    "                    'MinWidth(m)','MaxWidth(m)','MeanWidth(m)','StdErW(m)','geometry']\n",
    "faults_gdf_in = faults_copy_sliced_in.copy()#gpd.GeoDataFrame(columns=faults_stat_cols)#, dtype='int64')\n",
    "faults_gdf_in['Fault L(m)']=list(transect_gdf_reshaped_in.groupby('Fault ID')['Fault L(m)'].max())\n",
    "faults_gdf_in['MaxDsp(m)']=list(transect_gdf_reshaped_in.groupby('Fault ID')['TrDsp (m)'].max())\n",
    "faults_gdf_in['MeanDsp(m)']=list(transect_gdf_reshaped_in.groupby('Fault ID')['TrDsp (m)'].mean())\n",
    "faults_gdf_in['StdErDsp']=list(transect_gdf_reshaped_in.groupby('Fault ID')['StdErDsp'].max())\n",
    "faults_gdf_in['MinWidth(m)']=faults_copy_sliced_in['MinWidth(m)']\n",
    "faults_gdf_in['MaxWidth(m)']=faults_copy_sliced_in['MaxWidth(m)']\n",
    "faults_gdf_in['MeanWidth(m)']=faults_copy_sliced_in['MeanWidth(m)']\n",
    "faults_gdf_in['StdErW(m)']=faults_copy_sliced_in['StdErW(m)']\n",
    "faults_gdf_in['geometry']=faults_copy_sliced_in['geometry']\n",
    "faults_gdf_in['Fault ID']=faults_copy_sliced_in['fault_id']"
   ]
  },
  {
   "cell_type": "code",
   "execution_count": null,
   "id": "5b4c59f3-3611-44b6-9c58-c935d2f88e05",
   "metadata": {},
   "outputs": [],
   "source": [
    "faults_gdf_in.to_file (f'./{crater_name}_Dec2022/processing/filtered_simple.gpkg', driver='GPKG')"
   ]
  },
  {
   "cell_type": "markdown",
   "id": "a7d6f7ee-83de-4ce3-a0ad-ea230fbc6a1d",
   "metadata": {},
   "source": [
    "\n",
    "#Hang the execution to let the user perform manual operations.\n",
    "class StopExecution(Exception):\n",
    "    def _render_traceback_(self):\n",
    "        pass\n",
    "\n",
    "raise StopExecution"
   ]
  },
  {
   "cell_type": "markdown",
   "id": "90883355-be2a-4a7d-856d-039887bed0fc",
   "metadata": {
    "tags": []
   },
   "source": [
    "## Complex Faults\n",
    "**fault_drop_list contains all the id of anomalous graben faults (e.g. grabens with different faults length, graben with 3+ faults)**"
   ]
  },
  {
   "cell_type": "code",
   "execution_count": null,
   "id": "9f26a041-40f9-4d98-8570-48d995655bb1",
   "metadata": {},
   "outputs": [],
   "source": [
    "fault_groups_id = [[2,3],[3,4],[4,5],[5,6],[6,7],[12,13],[26,27],[26,28],[28,29],[47,49],[47,50],[46,47],[114,115],[115,116]]"
   ]
  },
  {
   "cell_type": "code",
   "execution_count": null,
   "id": "fe0c97a9-7ce5-4a0f-8df6-8a74785613d1",
   "metadata": {},
   "outputs": [],
   "source": [
    "indexes_to_throw = set(range(faults_copy.shape[0])) - set(indexes_to_keep)\n",
    "faults_copy_sliced_out = faults_copy.take(list(indexes_to_throw)).reset_index()\n",
    "faults_copy_sliced_out.to_file (f'./{crater_name}_Dec2022/processing/filtered_complex.gpkg', driver='GPKG')"
   ]
  },
  {
   "cell_type": "code",
   "execution_count": null,
   "id": "b0bfe2d5-d00a-474c-8de3-fd88038e2df0",
   "metadata": {},
   "outputs": [],
   "source": [
    "complete_indxs = list(faults_copy_sliced_out.index)\n",
    "indxs = [complete_indxs[i:i+2] for i in range(0, len(complete_indxs)-1, 2)]\n",
    "start_indx = [ix[0] for ix in indxs]\n",
    "stop_indx = [ix[1] for ix in indxs]"
   ]
  },
  {
   "cell_type": "code",
   "execution_count": null,
   "id": "010b0028-b67a-49d4-8e32-f38e21a0c4e5",
   "metadata": {},
   "outputs": [],
   "source": [
    "uni = []\n",
    "for u,q in fault_groups_id:\n",
    "    uni.append(u)\n",
    "    uni.append(q)\n",
    "mapped = dict(zip(list(set(uni)),complete_indxs))"
   ]
  },
  {
   "cell_type": "markdown",
   "id": "eb9ccbfc-59a8-4baa-9de0-5a023a245ce1",
   "metadata": {},
   "source": [
    "## Compute Graben Aperture\n",
    "**To compute graben aperture, for each fault we measure the min, max and mean distance between the fault and its paired fault's points.**"
   ]
  },
  {
   "cell_type": "code",
   "execution_count": null,
   "id": "f27623f7-7d6c-4ba0-a9aa-f9403d7df9de",
   "metadata": {},
   "outputs": [],
   "source": [
    "for ii, jj in fault_groups_id:\n",
    "    series1=faults_copy_sliced_out.iloc[mapped[ii]]\n",
    "    series2=faults_copy_sliced_out.iloc[mapped[jj]]\n",
    "    id1=series1['fault_id']\n",
    "    id2=series2['fault_id']\n",
    "    l1 = series1.geometry\n",
    "    l2 = series2.geometry\n",
    "    l1_points = [Point(l1.xy[0][i],l1.xy[1][i]) for i in range(len(l1.xy[0]))]\n",
    "    l2_points = [Point(l2.xy[0][i],l2.xy[1][i]) for i in range(len(l2.xy[0]))]\n",
    "    l1_point_distance = []\n",
    "    l2_point_distance = []\n",
    "    for point in l1_points:\n",
    "        pt_distance = point.distance(l2)\n",
    "        l1_point_distance.append(pt_distance)            \n",
    "    for point in l2_points:\n",
    "        l2_point_distance.append(pt_distance)\n",
    "        \n",
    "    percentile = np.percentile(faults_gdf_in['MeanWidth(m)'], 97)\n",
    "    percentilemid = np.percentile(faults_gdf_in['MeanWidth(m)'], 50)\n",
    "    l1_distance = [dst if dst <=percentile else percentilemid*percentile/dst+percentilemid for dst in l1_point_distance]\n",
    "    l2_distance = [dst if dst <=percentile else percentilemid*percentile/dst+percentilemid for dst in l2_point_distance]\n",
    "    #l1_percentile = np.percentile(l1_point_distance,80)\n",
    "    #l1_percentilemid = np.percentile(l1_point_distance,50)\n",
    "    #l2_percentile = np.percentile(l2_point_distance, 80)\n",
    "    #l2_percentilemid = np.percentile(l2_point_distance,50)\n",
    "    #l1_distance = [dst if dst <l1_percentile else l1_percentilemid for dst in l1_point_distance]\n",
    "    #l2_distance = [dst if dst <l2_percentile else l1_percentilemid for dst in l2_point_distance]\n",
    "    \n",
    "    \n",
    "    \n",
    "    zipped = list(zip(l1_distance,l2_distance))\n",
    "    l1_aperture=[]\n",
    "    l2_aperture=[]\n",
    "    for z in zipped:\n",
    "        ratio1 = z[0]/z[1]\n",
    "        ratio2 = z[1]/z[0]\n",
    "        if math.isclose(ratio1, 1,rel_tol=0.5):\n",
    "            l1_aperture.append(z[0])\n",
    "            l2_aperture.append(z[1])\n",
    "        elif ratio1 > ratio2:\n",
    "            l1_aperture.append(np.mean(l2_distance))\n",
    "            l2_aperture.append(np.mean(l2_distance))\n",
    "        else:\n",
    "            l1_aperture.append(np.mean(l1_distance))\n",
    "            l2_aperture.append(np.mean(l1_distance))\n",
    "    l1_distance = l1_aperture\n",
    "    l2_distance=l2_aperture\n",
    "    faults_copy_sliced_out.loc[faults_copy_sliced_out['fault_id']==id1,'MinWidth(m)'] = np.min(l1_distance)\n",
    "    faults_copy_sliced_out.loc[faults_copy_sliced_out['fault_id']==id1,'MaxWidth(m)'] = np.max(l1_distance)\n",
    "    faults_copy_sliced_out.loc[faults_copy_sliced_out['fault_id']==id1,'MeanWidth(m)'] = np.mean(l1_distance)\n",
    "    faults_copy_sliced_out.loc[faults_copy_sliced_out['fault_id']==id1,'StdErW(m)'] = np.std(l1_distance)\n",
    "    faults_copy_sliced_out.loc[faults_copy_sliced_out['fault_id']==id2,'MinWidth(m)'] = np.min(l2_distance)\n",
    "    faults_copy_sliced_out.loc[faults_copy_sliced_out['fault_id']==id2,'MaxWidth(m)'] = np.max(l2_distance)\n",
    "    faults_copy_sliced_out.loc[faults_copy_sliced_out['fault_id']==id2,'MeanWidth(m)'] = np.mean(l2_distance)\n",
    "    faults_copy_sliced_out.loc[faults_copy_sliced_out['fault_id']==id2,'StdErW(m)'] = np.std(l2_distance)"
   ]
  },
  {
   "cell_type": "code",
   "execution_count": null,
   "id": "6abc6236-3ee6-4bce-a1f2-50736372cc8a",
   "metadata": {},
   "outputs": [],
   "source": [
    "from shapely.geometry import Point, LineString\n",
    "geoLengths, segments, temp_datas = parallel_transectifier(faults_copy_sliced_out, 'MeanWidth(m)')"
   ]
  },
  {
   "cell_type": "code",
   "execution_count": null,
   "id": "6df9a849-3df9-4ed4-84fb-ebf0b7c31da1",
   "metadata": {},
   "outputs": [],
   "source": [
    "transect_gdf_out = transect_dataframe_creator(temp_datas)"
   ]
  },
  {
   "cell_type": "code",
   "execution_count": null,
   "id": "cbcad487-d55b-4153-82b5-b3f20d0003cc",
   "metadata": {},
   "outputs": [],
   "source": [
    "transect_gdf_out.crs=basecrs\n",
    "transect_gpkg_out = f'./{crater_name}_Dec2022/processing/transects-{crater_name}_complex.gpkg'\n",
    "transect_gdf_out.to_file(transect_gpkg_out,driver='GPKG')"
   ]
  },
  {
   "cell_type": "markdown",
   "id": "699e21ec-cdc8-4c69-835c-9a0b744a033f",
   "metadata": {},
   "source": [
    "## Transects trimming\n",
    "**For all the fault, each fault's transect is truncated at the intersectio of the corresponding paired fault**"
   ]
  },
  {
   "cell_type": "code",
   "execution_count": null,
   "id": "003cb6b5-f03d-4abe-834d-69f7fc040169",
   "metadata": {},
   "outputs": [],
   "source": [
    "transect_gdf_trim_out = transect_gdf_out.copy()"
   ]
  },
  {
   "cell_type": "code",
   "execution_count": null,
   "id": "b6af1456-3ff2-4ce1-9941-827d45fc6052",
   "metadata": {},
   "outputs": [],
   "source": [
    "for ii, jj in fault_groups_id:\n",
    "\n",
    "    series1=faults_copy_sliced_out.iloc[mapped[ii]]\n",
    "    series2=faults_copy_sliced_out.iloc[mapped[jj]]\n",
    "    id1=series1['fault_id']\n",
    "    id2=series2['fault_id']\n",
    "    tmp1 = transect_gdf_trim_out[transect_gdf_trim_out['Fault ID']==id1]\n",
    "    tmp2 = transect_gdf_trim_out[transect_gdf_trim_out['Fault ID']==id2]\n",
    "    l1 = series1.geometry\n",
    "    l2 = series2.geometry\n",
    "    nnf1 = faults_copy_sliced_out[faults_copy_sliced_out['fault_id']==id1].iloc[0].geometry\n",
    "    nnf2 = faults_copy_sliced_out[faults_copy_sliced_out['fault_id']==id2].iloc[0].geometry\n",
    "    cutplots=[]\n",
    "    for i in tmp1.index:        \n",
    "        nnt1 = tmp1.loc[i,'geometry']\n",
    "        nncut1 = nnt1.difference(nnf2)\n",
    "        try:\n",
    "            nncut1geom = nncut1.geoms[0]\n",
    "        except Exception as e:\n",
    "            #print(e)\n",
    "            nncut1geom = nncut1\n",
    "            pass\n",
    "        if nncut1geom.length >=1000:\n",
    "            nncut1geom= cut(nncut1geom,1000)[0]\n",
    "        transect_gdf_trim_out.loc[i,'geometry']=nncut1geom\n",
    "    for i in tmp2.index:\n",
    "        nnt2 = tmp2.loc[i,'geometry']\n",
    "        nncut2 = nnt2.difference(nnf1)\n",
    "        try:\n",
    "            nncut2geom = nncut2.geoms[0]\n",
    "        except:\n",
    "            nncut2geom = nncut2\n",
    "            pass\n",
    "        if nncut2geom.length >=1000:\n",
    "            nncut2geom= cut(nncut2geom,1000)[0]\n",
    "        transect_gdf_trim_out.loc[i,'geometry']=nncut2geom"
   ]
  },
  {
   "cell_type": "code",
   "execution_count": null,
   "id": "5da55eea-addf-465f-ae4a-f5fecaaaaf58",
   "metadata": {},
   "outputs": [],
   "source": [
    "transect_gdf_trim_out.crs=basecrs\n",
    "transect_gdf_gpkg_out = f'./{crater_name}_Dec2022/processing/transects-{crater_name}_complex_trimmed.gpkg'\n",
    "transect_gdf_trim_out.to_file(transect_gpkg_out,driver='GPKG')\n"
   ]
  },
  {
   "cell_type": "markdown",
   "id": "4ddb49ed-502f-4688-b2c8-b3aee983bfca",
   "metadata": {},
   "source": [
    "## Transect reshaping using DEM profiles\n",
    "**For each transect, a DEM profile will be generated and then the minimum elevation point will be used to cut the transect**"
   ]
  },
  {
   "cell_type": "code",
   "execution_count": null,
   "id": "49e6551e-797a-4842-9bb1-7295c05151d7",
   "metadata": {},
   "outputs": [],
   "source": [
    "Displacements, Geoms = parallel_tReshaper(transect_gdf_trim_out,transect_reshaper,riox_dem,dem_res)"
   ]
  },
  {
   "cell_type": "code",
   "execution_count": null,
   "id": "d05a5c9b-90dd-46e8-9564-570f34c745f1",
   "metadata": {},
   "outputs": [],
   "source": [
    "transect_gdf_reshaped_out = transect_gdf_trim_out.copy()"
   ]
  },
  {
   "cell_type": "code",
   "execution_count": null,
   "id": "9c3e6892-4ed6-43b7-9e4b-80d22a9140ec",
   "metadata": {},
   "outputs": [],
   "source": [
    "transect_gdf_reshaped_out['TrDsp (m)'] = Displacements\n",
    "transect_gdf_reshaped_out['geometry']=Geoms"
   ]
  },
  {
   "cell_type": "markdown",
   "id": "42fbf362-7fca-4b4f-9e85-4fc39a63e23e",
   "metadata": {},
   "source": [
    "## Summary Faults statistics "
   ]
  },
  {
   "cell_type": "code",
   "execution_count": null,
   "id": "d81c7010-49af-44e3-b9c3-90e4f35ec2cf",
   "metadata": {},
   "outputs": [],
   "source": [
    "for jj in transect_gdf_reshaped_out['Fault ID']:\n",
    "    mask = transect_gdf_reshaped_out['Fault ID']==jj\n",
    "    stder= transect_gdf_reshaped_out[mask]['TrDsp (m)'].std()\n",
    "    mean= transect_gdf_reshaped_out[mask]['TrDsp (m)'].mean()\n",
    "    transect_gdf_reshaped_out.loc[mask,'StdErDsp']=stder    "
   ]
  },
  {
   "cell_type": "code",
   "execution_count": null,
   "id": "97600349-713b-4ddf-8d20-305416cdb61e",
   "metadata": {},
   "outputs": [],
   "source": [
    "transect_gdf_reshaped_out.crs=basecrs\n",
    "transect_gpkg_out = f'./{crater_name}_Dec2022/processing/transects-{crater_name}_complex_reshaped.gpkg'\n",
    "transect_gdf_reshaped_out.to_file(transect_gpkg_out,driver='GPKG')\n"
   ]
  },
  {
   "cell_type": "code",
   "execution_count": null,
   "id": "0715596b-225b-4d19-8f43-85e02b2fece6",
   "metadata": {},
   "outputs": [],
   "source": [
    "faults_stat_cols = ['Fault ID','Fault L(m)',\n",
    "                    'MaxDsp(m)','MeanDsp(m)','StdErDsp',\n",
    "                    'MinWidth(m)','MaxWidth(m)','MeanWidth(m)','StdErW(m)','geometry']\n",
    "faults_gdf_out = faults_copy_sliced_out.copy()#gpd.GeoDataFrame(columns=faults_stat_cols)#, dtype='int64')\n",
    "faults_gdf_out['Fault L(m)']=list(transect_gdf_reshaped_out.groupby('Fault ID')['Fault L(m)'].max())\n",
    "faults_gdf_out['MaxDsp(m)']=list(transect_gdf_reshaped_out.groupby('Fault ID')['TrDsp (m)'].max())\n",
    "faults_gdf_out['MeanDsp(m)']=list(transect_gdf_reshaped_out.groupby('Fault ID')['TrDsp (m)'].mean())\n",
    "faults_gdf_out['StdErDsp']=list(transect_gdf_reshaped_out.groupby('Fault ID')['StdErDsp'].max())\n",
    "faults_gdf_out['MinWidth(m)']=faults_copy_sliced_out['MinWidth(m)']\n",
    "faults_gdf_out['MaxWidth(m)']=faults_copy_sliced_out['MaxWidth(m)']\n",
    "faults_gdf_out['MeanWidth(m)']=faults_copy_sliced_out['MeanWidth(m)']\n",
    "faults_gdf_out['StdErW(m)']=faults_copy_sliced_out['StdErW(m)']\n",
    "faults_gdf_out['geometry']=faults_copy_sliced_out['geometry']\n",
    "faults_gdf_out['Fault ID']=faults_copy_sliced_out['fault_id']"
   ]
  },
  {
   "cell_type": "code",
   "execution_count": null,
   "id": "b0e64452-e9f7-4400-8945-a829c5713895",
   "metadata": {},
   "outputs": [],
   "source": [
    "faults_gdf_out.to_file (f'./{crater_name}_Dec2022/processing/filtered_complex.gpkg', driver='GPKG')"
   ]
  },
  {
   "cell_type": "markdown",
   "id": "da967339-2736-4390-bc16-ada2bb210537",
   "metadata": {
    "tags": []
   },
   "source": [
    "## Combining data"
   ]
  },
  {
   "cell_type": "code",
   "execution_count": null,
   "id": "794df8aa-40e8-48bf-94b6-9be2c0f52740",
   "metadata": {},
   "outputs": [],
   "source": [
    "transect_unified = pd.concat([transect_gdf_reshaped_in, transect_gdf_reshaped_out]).reset_index()\n",
    "transect_gdf_reshaped_in_f1 = transect_unified[transect_unified['Fault ID']!=117]\n",
    "transect_gdf_reshaped_in_f1.to_file(f'./{crater_name}_Dec2022/processing/{crater_name}_transects_final.gpkg', driver='GPKG')"
   ]
  },
  {
   "cell_type": "code",
   "execution_count": null,
   "id": "2354833b-fd4f-434e-ae25-542aa86e5825",
   "metadata": {},
   "outputs": [],
   "source": [
    "faults_unified = pd.concat([faults_gdf_in,faults_gdf_out]).reset_index()\n",
    "faults_gdf_in_f1 = faults_unified[faults_unified['Fault ID']!=117]\n",
    "faults_gdf_in_f1.to_file(f'./{crater_name}_Dec2022/processing/{crater_name}_faults_final.gpkg', driver='GPKG')\n",
    "faults_gdf_in_f1.to_excel(f'./{crater_name}_Dec2022/processing/{crater_name}_faults_final.xlsx')"
   ]
  }
 ],
 "metadata": {
  "kernelspec": {
   "display_name": "Python 3 (ipykernel)",
   "language": "python",
   "name": "python3"
  },
  "language_info": {
   "codemirror_mode": {
    "name": "ipython",
    "version": 3
   },
   "file_extension": ".py",
   "mimetype": "text/x-python",
   "name": "python",
   "nbconvert_exporter": "python",
   "pygments_lexer": "ipython3",
   "version": "3.9.15"
  }
 },
 "nbformat": 4,
 "nbformat_minor": 5
}
